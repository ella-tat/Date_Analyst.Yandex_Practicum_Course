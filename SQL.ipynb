{
 "cells": [
  {
   "cell_type": "markdown",
   "id": "ebbb0d96",
   "metadata": {
    "toc": true
   },
   "source": [
    "<h1>Table of Contents<span class=\"tocSkip\"></span></h1>\n",
    "<div class=\"toc\"><ul class=\"toc-item\"><li><span><a href=\"#Изучение-файла-с-данными-и-общей-информации\" data-toc-modified-id=\"Изучение-файла-с-данными-и-общей-информации-1\"><span class=\"toc-item-num\">1&nbsp;&nbsp;</span>Изучение файла с данными и общей информации</a></span></li><li><span><a href=\"#Посчитайте,-сколько-книг-вышло-после-1-января-2000-года\" data-toc-modified-id=\"Посчитайте,-сколько-книг-вышло-после-1-января-2000-года-2\"><span class=\"toc-item-num\">2&nbsp;&nbsp;</span>Посчитайте, сколько книг вышло после 1 января 2000 года</a></span></li><li><span><a href=\"#Для-каждой-книги-посчитайте-количество-обзоров-и-среднюю-оценку\" data-toc-modified-id=\"Для-каждой-книги-посчитайте-количество-обзоров-и-среднюю-оценку-3\"><span class=\"toc-item-num\">3&nbsp;&nbsp;</span>Для каждой книги посчитайте количество обзоров и среднюю оценку</a></span></li><li><span><a href=\"#Определите-издательство,-которое-выпустило-наибольшее-число-книг-толще-50-страниц-—-так-вы-исключите-из-анализа-брошюры\" data-toc-modified-id=\"Определите-издательство,-которое-выпустило-наибольшее-число-книг-толще-50-страниц-—-так-вы-исключите-из-анализа-брошюры-4\"><span class=\"toc-item-num\">4&nbsp;&nbsp;</span>Определите издательство, которое выпустило наибольшее число книг толще 50 страниц — так вы исключите из анализа брошюры</a></span></li><li><span><a href=\"#Определите-автора-с-самой-высокой-средней-оценкой-книг-—-учитывайте-только-книги-с-50-и-более-оценками\" data-toc-modified-id=\"Определите-автора-с-самой-высокой-средней-оценкой-книг-—-учитывайте-только-книги-с-50-и-более-оценками-5\"><span class=\"toc-item-num\">5&nbsp;&nbsp;</span>Определите автора с самой высокой средней оценкой книг — учитывайте только книги с 50 и более оценками</a></span></li><li><span><a href=\"#Посчитайте-среднее-количество-обзоров-от-пользователей,-которые-поставили-больше-50-оценок.\" data-toc-modified-id=\"Посчитайте-среднее-количество-обзоров-от-пользователей,-которые-поставили-больше-50-оценок.-6\"><span class=\"toc-item-num\">6&nbsp;&nbsp;</span>Посчитайте среднее количество обзоров от пользователей, которые поставили больше 50 оценок.</a></span></li></ul></div>"
   ]
  },
  {
   "cell_type": "markdown",
   "id": "b25a3f2e",
   "metadata": {},
   "source": [
    "# Описание проекта"
   ]
  },
  {
   "cell_type": "markdown",
   "id": "f769d299",
   "metadata": {},
   "source": [
    "    Заказчик - компания крупного сервиса для чтения книг по подписке\n",
    "    Задача — проанализировать базу данных с информацией о книгах, издательствах, авторах, а также пользовательские обзоры книг.\n",
    "\n",
    "\n",
    "# Задания\n",
    "\n",
    "- Посчитайте, сколько книг вышло после 1 января 2000 года;\n",
    "- Для каждой книги посчитайте количество обзоров и среднюю оценку;\n",
    "- Определите издательство, которое выпустило наибольшее число книг толще 50 страниц — так вы исключите из анализа брошюры;\n",
    "- Определите автора с самой высокой средней оценкой книг — учитывайте только книги с 50 и более оценками;\n",
    "- Посчитайте среднее количество обзоров от пользователей, которые поставили больше 50 оценок."
   ]
  },
  {
   "cell_type": "markdown",
   "id": "07b20851",
   "metadata": {},
   "source": [
    "##  Изучение файла с данными и общей информации"
   ]
  },
  {
   "cell_type": "code",
   "execution_count": 1,
   "id": "7b288ebc",
   "metadata": {
    "scrolled": true
   },
   "outputs": [],
   "source": [
    "# импортируем библиотеки\n",
    "import pandas as pd\n",
    "from sqlalchemy import create_engine"
   ]
  },
  {
   "cell_type": "code",
   "execution_count": 2,
   "id": "74260f3a",
   "metadata": {},
   "outputs": [],
   "source": [
    "# устанавливаем параметры\n",
    "db_config = {'user': 'praktikum_student', # имя пользователя\n",
    "              'pwd': 'Sdf4$2;d-d30pp', # пароль\n",
    "             'host': 'rc1b-wcoijxj3yxfsf3fs.mdb.yandexcloud.net',\n",
    "             'port': 6432, # порт подключения\n",
    "               'db': 'data-analyst-final-project-db'} # название базы данных\n",
    "connection_string = 'postgresql://{}:{}@{}:{}/{}'.format(db_config['user'],\n",
    "                                                         db_config['pwd'],\n",
    "                                                         db_config['host'],\n",
    "                                                         db_config['port'],\n",
    "                                                         db_config['db'])\n",
    "# сохраняем коннектор\n",
    "engine = create_engine(connection_string, connect_args={'sslmode':'require'}) "
   ]
  },
  {
   "cell_type": "code",
   "execution_count": 5,
   "id": "a47a19d5",
   "metadata": {
    "scrolled": false
   },
   "outputs": [
    {
     "name": "stdout",
     "output_type": "stream",
     "text": [
      "<class 'pandas.core.frame.DataFrame'>\n",
      "RangeIndex: 1000 entries, 0 to 999\n",
      "Data columns (total 6 columns):\n",
      " #   Column            Non-Null Count  Dtype         \n",
      "---  ------            --------------  -----         \n",
      " 0   book_id           1000 non-null   int64         \n",
      " 1   author_id         1000 non-null   int64         \n",
      " 2   title             1000 non-null   object        \n",
      " 3   num_pages         1000 non-null   int64         \n",
      " 4   publication_date  1000 non-null   datetime64[ns]\n",
      " 5   publisher_id      1000 non-null   int64         \n",
      "dtypes: datetime64[ns](1), int64(4), object(1)\n",
      "memory usage: 47.0+ KB\n"
     ]
    },
    {
     "data": {
      "text/plain": [
       "'Таблица books:'"
      ]
     },
     "metadata": {},
     "output_type": "display_data"
    },
    {
     "data": {
      "text/html": [
       "<div>\n",
       "<style scoped>\n",
       "    .dataframe tbody tr th:only-of-type {\n",
       "        vertical-align: middle;\n",
       "    }\n",
       "\n",
       "    .dataframe tbody tr th {\n",
       "        vertical-align: top;\n",
       "    }\n",
       "\n",
       "    .dataframe thead th {\n",
       "        text-align: right;\n",
       "    }\n",
       "</style>\n",
       "<table border=\"1\" class=\"dataframe\">\n",
       "  <thead>\n",
       "    <tr style=\"text-align: right;\">\n",
       "      <th></th>\n",
       "      <th>book_id</th>\n",
       "      <th>author_id</th>\n",
       "      <th>title</th>\n",
       "      <th>num_pages</th>\n",
       "      <th>publication_date</th>\n",
       "      <th>publisher_id</th>\n",
       "    </tr>\n",
       "  </thead>\n",
       "  <tbody>\n",
       "    <tr>\n",
       "      <th>0</th>\n",
       "      <td>1</td>\n",
       "      <td>546</td>\n",
       "      <td>'Salem's Lot</td>\n",
       "      <td>594</td>\n",
       "      <td>2005-11-01</td>\n",
       "      <td>93</td>\n",
       "    </tr>\n",
       "    <tr>\n",
       "      <th>1</th>\n",
       "      <td>2</td>\n",
       "      <td>465</td>\n",
       "      <td>1 000 Places to See Before You Die</td>\n",
       "      <td>992</td>\n",
       "      <td>2003-05-22</td>\n",
       "      <td>336</td>\n",
       "    </tr>\n",
       "    <tr>\n",
       "      <th>2</th>\n",
       "      <td>3</td>\n",
       "      <td>407</td>\n",
       "      <td>13 Little Blue Envelopes (Little Blue Envelope...</td>\n",
       "      <td>322</td>\n",
       "      <td>2010-12-21</td>\n",
       "      <td>135</td>\n",
       "    </tr>\n",
       "    <tr>\n",
       "      <th>3</th>\n",
       "      <td>4</td>\n",
       "      <td>82</td>\n",
       "      <td>1491: New Revelations of the Americas Before C...</td>\n",
       "      <td>541</td>\n",
       "      <td>2006-10-10</td>\n",
       "      <td>309</td>\n",
       "    </tr>\n",
       "    <tr>\n",
       "      <th>4</th>\n",
       "      <td>5</td>\n",
       "      <td>125</td>\n",
       "      <td>1776</td>\n",
       "      <td>386</td>\n",
       "      <td>2006-07-04</td>\n",
       "      <td>268</td>\n",
       "    </tr>\n",
       "  </tbody>\n",
       "</table>\n",
       "</div>"
      ],
      "text/plain": [
       "   book_id  author_id                                              title  \\\n",
       "0        1        546                                       'Salem's Lot   \n",
       "1        2        465                 1 000 Places to See Before You Die   \n",
       "2        3        407  13 Little Blue Envelopes (Little Blue Envelope...   \n",
       "3        4         82  1491: New Revelations of the Americas Before C...   \n",
       "4        5        125                                               1776   \n",
       "\n",
       "   num_pages publication_date  publisher_id  \n",
       "0        594       2005-11-01            93  \n",
       "1        992       2003-05-22           336  \n",
       "2        322       2010-12-21           135  \n",
       "3        541       2006-10-10           309  \n",
       "4        386       2006-07-04           268  "
      ]
     },
     "metadata": {},
     "output_type": "display_data"
    },
    {
     "data": {
      "text/plain": [
       "None"
      ]
     },
     "metadata": {},
     "output_type": "display_data"
    },
    {
     "data": {
      "text/plain": [
       "'=========================================================================================='"
      ]
     },
     "metadata": {},
     "output_type": "display_data"
    },
    {
     "name": "stdout",
     "output_type": "stream",
     "text": [
      "<class 'pandas.core.frame.DataFrame'>\n",
      "RangeIndex: 636 entries, 0 to 635\n",
      "Data columns (total 2 columns):\n",
      " #   Column     Non-Null Count  Dtype \n",
      "---  ------     --------------  ----- \n",
      " 0   author_id  636 non-null    int64 \n",
      " 1   author     636 non-null    object\n",
      "dtypes: int64(1), object(1)\n",
      "memory usage: 10.1+ KB\n"
     ]
    },
    {
     "data": {
      "text/plain": [
       "'Таблица authors:'"
      ]
     },
     "metadata": {},
     "output_type": "display_data"
    },
    {
     "data": {
      "text/html": [
       "<div>\n",
       "<style scoped>\n",
       "    .dataframe tbody tr th:only-of-type {\n",
       "        vertical-align: middle;\n",
       "    }\n",
       "\n",
       "    .dataframe tbody tr th {\n",
       "        vertical-align: top;\n",
       "    }\n",
       "\n",
       "    .dataframe thead th {\n",
       "        text-align: right;\n",
       "    }\n",
       "</style>\n",
       "<table border=\"1\" class=\"dataframe\">\n",
       "  <thead>\n",
       "    <tr style=\"text-align: right;\">\n",
       "      <th></th>\n",
       "      <th>author_id</th>\n",
       "      <th>author</th>\n",
       "    </tr>\n",
       "  </thead>\n",
       "  <tbody>\n",
       "    <tr>\n",
       "      <th>0</th>\n",
       "      <td>1</td>\n",
       "      <td>A.S. Byatt</td>\n",
       "    </tr>\n",
       "    <tr>\n",
       "      <th>1</th>\n",
       "      <td>2</td>\n",
       "      <td>Aesop/Laura Harris/Laura Gibbs</td>\n",
       "    </tr>\n",
       "    <tr>\n",
       "      <th>2</th>\n",
       "      <td>3</td>\n",
       "      <td>Agatha Christie</td>\n",
       "    </tr>\n",
       "    <tr>\n",
       "      <th>3</th>\n",
       "      <td>4</td>\n",
       "      <td>Alan Brennert</td>\n",
       "    </tr>\n",
       "    <tr>\n",
       "      <th>4</th>\n",
       "      <td>5</td>\n",
       "      <td>Alan Moore/David   Lloyd</td>\n",
       "    </tr>\n",
       "  </tbody>\n",
       "</table>\n",
       "</div>"
      ],
      "text/plain": [
       "   author_id                          author\n",
       "0          1                      A.S. Byatt\n",
       "1          2  Aesop/Laura Harris/Laura Gibbs\n",
       "2          3                 Agatha Christie\n",
       "3          4                   Alan Brennert\n",
       "4          5        Alan Moore/David   Lloyd"
      ]
     },
     "metadata": {},
     "output_type": "display_data"
    },
    {
     "data": {
      "text/plain": [
       "None"
      ]
     },
     "metadata": {},
     "output_type": "display_data"
    },
    {
     "data": {
      "text/plain": [
       "'=========================================================================================='"
      ]
     },
     "metadata": {},
     "output_type": "display_data"
    },
    {
     "name": "stdout",
     "output_type": "stream",
     "text": [
      "<class 'pandas.core.frame.DataFrame'>\n",
      "RangeIndex: 340 entries, 0 to 339\n",
      "Data columns (total 2 columns):\n",
      " #   Column        Non-Null Count  Dtype \n",
      "---  ------        --------------  ----- \n",
      " 0   publisher_id  340 non-null    int64 \n",
      " 1   publisher     340 non-null    object\n",
      "dtypes: int64(1), object(1)\n",
      "memory usage: 5.4+ KB\n"
     ]
    },
    {
     "data": {
      "text/plain": [
       "'Таблица publishers:'"
      ]
     },
     "metadata": {},
     "output_type": "display_data"
    },
    {
     "data": {
      "text/html": [
       "<div>\n",
       "<style scoped>\n",
       "    .dataframe tbody tr th:only-of-type {\n",
       "        vertical-align: middle;\n",
       "    }\n",
       "\n",
       "    .dataframe tbody tr th {\n",
       "        vertical-align: top;\n",
       "    }\n",
       "\n",
       "    .dataframe thead th {\n",
       "        text-align: right;\n",
       "    }\n",
       "</style>\n",
       "<table border=\"1\" class=\"dataframe\">\n",
       "  <thead>\n",
       "    <tr style=\"text-align: right;\">\n",
       "      <th></th>\n",
       "      <th>publisher_id</th>\n",
       "      <th>publisher</th>\n",
       "    </tr>\n",
       "  </thead>\n",
       "  <tbody>\n",
       "    <tr>\n",
       "      <th>0</th>\n",
       "      <td>1</td>\n",
       "      <td>Ace</td>\n",
       "    </tr>\n",
       "    <tr>\n",
       "      <th>1</th>\n",
       "      <td>2</td>\n",
       "      <td>Ace Book</td>\n",
       "    </tr>\n",
       "    <tr>\n",
       "      <th>2</th>\n",
       "      <td>3</td>\n",
       "      <td>Ace Books</td>\n",
       "    </tr>\n",
       "    <tr>\n",
       "      <th>3</th>\n",
       "      <td>4</td>\n",
       "      <td>Ace Hardcover</td>\n",
       "    </tr>\n",
       "    <tr>\n",
       "      <th>4</th>\n",
       "      <td>5</td>\n",
       "      <td>Addison Wesley Publishing Company</td>\n",
       "    </tr>\n",
       "  </tbody>\n",
       "</table>\n",
       "</div>"
      ],
      "text/plain": [
       "   publisher_id                          publisher\n",
       "0             1                                Ace\n",
       "1             2                           Ace Book\n",
       "2             3                          Ace Books\n",
       "3             4                      Ace Hardcover\n",
       "4             5  Addison Wesley Publishing Company"
      ]
     },
     "metadata": {},
     "output_type": "display_data"
    },
    {
     "data": {
      "text/plain": [
       "None"
      ]
     },
     "metadata": {},
     "output_type": "display_data"
    },
    {
     "data": {
      "text/plain": [
       "'=========================================================================================='"
      ]
     },
     "metadata": {},
     "output_type": "display_data"
    },
    {
     "name": "stdout",
     "output_type": "stream",
     "text": [
      "<class 'pandas.core.frame.DataFrame'>\n",
      "RangeIndex: 6456 entries, 0 to 6455\n",
      "Data columns (total 4 columns):\n",
      " #   Column     Non-Null Count  Dtype \n",
      "---  ------     --------------  ----- \n",
      " 0   rating_id  6456 non-null   int64 \n",
      " 1   book_id    6456 non-null   int64 \n",
      " 2   username   6456 non-null   object\n",
      " 3   rating     6456 non-null   int64 \n",
      "dtypes: int64(3), object(1)\n",
      "memory usage: 201.9+ KB\n"
     ]
    },
    {
     "data": {
      "text/plain": [
       "'Таблица ratings:'"
      ]
     },
     "metadata": {},
     "output_type": "display_data"
    },
    {
     "data": {
      "text/html": [
       "<div>\n",
       "<style scoped>\n",
       "    .dataframe tbody tr th:only-of-type {\n",
       "        vertical-align: middle;\n",
       "    }\n",
       "\n",
       "    .dataframe tbody tr th {\n",
       "        vertical-align: top;\n",
       "    }\n",
       "\n",
       "    .dataframe thead th {\n",
       "        text-align: right;\n",
       "    }\n",
       "</style>\n",
       "<table border=\"1\" class=\"dataframe\">\n",
       "  <thead>\n",
       "    <tr style=\"text-align: right;\">\n",
       "      <th></th>\n",
       "      <th>rating_id</th>\n",
       "      <th>book_id</th>\n",
       "      <th>username</th>\n",
       "      <th>rating</th>\n",
       "    </tr>\n",
       "  </thead>\n",
       "  <tbody>\n",
       "    <tr>\n",
       "      <th>0</th>\n",
       "      <td>1</td>\n",
       "      <td>1</td>\n",
       "      <td>ryanfranco</td>\n",
       "      <td>4</td>\n",
       "    </tr>\n",
       "    <tr>\n",
       "      <th>1</th>\n",
       "      <td>2</td>\n",
       "      <td>1</td>\n",
       "      <td>grantpatricia</td>\n",
       "      <td>2</td>\n",
       "    </tr>\n",
       "    <tr>\n",
       "      <th>2</th>\n",
       "      <td>3</td>\n",
       "      <td>1</td>\n",
       "      <td>brandtandrea</td>\n",
       "      <td>5</td>\n",
       "    </tr>\n",
       "    <tr>\n",
       "      <th>3</th>\n",
       "      <td>4</td>\n",
       "      <td>2</td>\n",
       "      <td>lorichen</td>\n",
       "      <td>3</td>\n",
       "    </tr>\n",
       "    <tr>\n",
       "      <th>4</th>\n",
       "      <td>5</td>\n",
       "      <td>2</td>\n",
       "      <td>mariokeller</td>\n",
       "      <td>2</td>\n",
       "    </tr>\n",
       "  </tbody>\n",
       "</table>\n",
       "</div>"
      ],
      "text/plain": [
       "   rating_id  book_id       username  rating\n",
       "0          1        1     ryanfranco       4\n",
       "1          2        1  grantpatricia       2\n",
       "2          3        1   brandtandrea       5\n",
       "3          4        2       lorichen       3\n",
       "4          5        2    mariokeller       2"
      ]
     },
     "metadata": {},
     "output_type": "display_data"
    },
    {
     "data": {
      "text/plain": [
       "None"
      ]
     },
     "metadata": {},
     "output_type": "display_data"
    },
    {
     "data": {
      "text/plain": [
       "'=========================================================================================='"
      ]
     },
     "metadata": {},
     "output_type": "display_data"
    },
    {
     "name": "stdout",
     "output_type": "stream",
     "text": [
      "<class 'pandas.core.frame.DataFrame'>\n",
      "RangeIndex: 2793 entries, 0 to 2792\n",
      "Data columns (total 4 columns):\n",
      " #   Column     Non-Null Count  Dtype \n",
      "---  ------     --------------  ----- \n",
      " 0   review_id  2793 non-null   int64 \n",
      " 1   book_id    2793 non-null   int64 \n",
      " 2   username   2793 non-null   object\n",
      " 3   text       2793 non-null   object\n",
      "dtypes: int64(2), object(2)\n",
      "memory usage: 87.4+ KB\n"
     ]
    },
    {
     "data": {
      "text/plain": [
       "'Таблица reviews:'"
      ]
     },
     "metadata": {},
     "output_type": "display_data"
    },
    {
     "data": {
      "text/html": [
       "<div>\n",
       "<style scoped>\n",
       "    .dataframe tbody tr th:only-of-type {\n",
       "        vertical-align: middle;\n",
       "    }\n",
       "\n",
       "    .dataframe tbody tr th {\n",
       "        vertical-align: top;\n",
       "    }\n",
       "\n",
       "    .dataframe thead th {\n",
       "        text-align: right;\n",
       "    }\n",
       "</style>\n",
       "<table border=\"1\" class=\"dataframe\">\n",
       "  <thead>\n",
       "    <tr style=\"text-align: right;\">\n",
       "      <th></th>\n",
       "      <th>review_id</th>\n",
       "      <th>book_id</th>\n",
       "      <th>username</th>\n",
       "      <th>text</th>\n",
       "    </tr>\n",
       "  </thead>\n",
       "  <tbody>\n",
       "    <tr>\n",
       "      <th>0</th>\n",
       "      <td>1</td>\n",
       "      <td>1</td>\n",
       "      <td>brandtandrea</td>\n",
       "      <td>Mention society tell send professor analysis. ...</td>\n",
       "    </tr>\n",
       "    <tr>\n",
       "      <th>1</th>\n",
       "      <td>2</td>\n",
       "      <td>1</td>\n",
       "      <td>ryanfranco</td>\n",
       "      <td>Foot glass pretty audience hit themselves. Amo...</td>\n",
       "    </tr>\n",
       "    <tr>\n",
       "      <th>2</th>\n",
       "      <td>3</td>\n",
       "      <td>2</td>\n",
       "      <td>lorichen</td>\n",
       "      <td>Listen treat keep worry. Miss husband tax but ...</td>\n",
       "    </tr>\n",
       "    <tr>\n",
       "      <th>3</th>\n",
       "      <td>4</td>\n",
       "      <td>3</td>\n",
       "      <td>johnsonamanda</td>\n",
       "      <td>Finally month interesting blue could nature cu...</td>\n",
       "    </tr>\n",
       "    <tr>\n",
       "      <th>4</th>\n",
       "      <td>5</td>\n",
       "      <td>3</td>\n",
       "      <td>scotttamara</td>\n",
       "      <td>Nation purpose heavy give wait song will. List...</td>\n",
       "    </tr>\n",
       "  </tbody>\n",
       "</table>\n",
       "</div>"
      ],
      "text/plain": [
       "   review_id  book_id       username  \\\n",
       "0          1        1   brandtandrea   \n",
       "1          2        1     ryanfranco   \n",
       "2          3        2       lorichen   \n",
       "3          4        3  johnsonamanda   \n",
       "4          5        3    scotttamara   \n",
       "\n",
       "                                                text  \n",
       "0  Mention society tell send professor analysis. ...  \n",
       "1  Foot glass pretty audience hit themselves. Amo...  \n",
       "2  Listen treat keep worry. Miss husband tax but ...  \n",
       "3  Finally month interesting blue could nature cu...  \n",
       "4  Nation purpose heavy give wait song will. List...  "
      ]
     },
     "metadata": {},
     "output_type": "display_data"
    },
    {
     "data": {
      "text/plain": [
       "None"
      ]
     },
     "metadata": {},
     "output_type": "display_data"
    },
    {
     "data": {
      "text/plain": [
       "'=========================================================================================='"
      ]
     },
     "metadata": {},
     "output_type": "display_data"
    }
   ],
   "source": [
    "# выведем первые пять строк таблиц \n",
    "for query in ['books', 'authors', 'publishers', 'ratings', 'reviews']:\n",
    "    request=pd.io.sql.read_sql(query, con = engine)\n",
    "    display('Таблица {}:'.format(query), request.head(),  request.info(),'='*90)"
   ]
  },
  {
   "cell_type": "code",
   "execution_count": 6,
   "id": "6f9c65c0",
   "metadata": {},
   "outputs": [],
   "source": [
    "# напишем функцию для упрощения вывода query запроса  \n",
    "def table(query):\n",
    "    ('''   ''')\n",
    "    return pd.io.sql.read_sql(query, con = engine)"
   ]
  },
  {
   "cell_type": "markdown",
   "id": "fb6c9db0",
   "metadata": {},
   "source": [
    "# Описание данных"
   ]
  },
  {
   "cell_type": "markdown",
   "id": "9114dca4",
   "metadata": {},
   "source": [
    "В распоряжении датасеты с информацией о книгах, издательствах, авторах, а также пользовательские обзоры книг. \n",
    "\n",
    "- таблица books - 1000 строк, 6 столбцов с типом данных datetime64[ns](1), int64(4), object(1)\n",
    "- таблица authors - 636 строк, 2 столбца с типом данных int64(1), object(1)\n",
    "- таблица publishers - 340 строк, 2 столбца с типом данных int64(1), object(1)\n",
    "- таблица ratings - 6456 строки, 4 столбца с типом данных int64(3), object(1)\n",
    "- таблица reviews - 2793 строки, 4 столбца с типом данных int64(2), object(2)\n",
    "\n",
    "\n",
    "**Таблица `books`**\n",
    "\n",
    "Содержит данные о книгах:\n",
    "\n",
    "- `book_id` — идентификатор книги;\n",
    "- `author_id` — идентификатор автора;\n",
    "- `title` — название книги;\n",
    "- `num_pages` — количество страниц;\n",
    "- `publication_date` — дата публикации книги;\n",
    "- `publisher_id` — идентификатор издателя.\n",
    "\n",
    "**Таблица `authors`**\n",
    "\n",
    "Содержит данные об авторах:\n",
    "\n",
    "- `author_id` — идентификатор автора;\n",
    "- `author` — имя автора.\n",
    "\n",
    "**Таблица `publishers`**\n",
    "\n",
    "Содержит данные об издательствах:\n",
    "\n",
    "- `publisher_id` — идентификатор издательства;\n",
    "- `publisher` — название издательства;\n",
    "\n",
    "**Таблица `ratings`**\n",
    "\n",
    "Содержит данные о пользовательских оценках книг:\n",
    "\n",
    "- `rating_id` — идентификатор оценки;\n",
    "- `book_id` — идентификатор книги;\n",
    "- `username` — имя пользователя, оставившего оценку;\n",
    "- `rating` — оценка книги.\n",
    "\n",
    "**Таблица `reviews`**\n",
    "\n",
    "Содержит данные о пользовательских обзорах на книги:\n",
    "\n",
    "- `review_id` — идентификатор обзора;\n",
    "- `book_id` — идентификатор книги;\n",
    "- `username` — имя пользователя, написавшего обзор;\n",
    "- `text` — текст обзора."
   ]
  },
  {
   "cell_type": "markdown",
   "id": "4e9a91d9",
   "metadata": {},
   "source": [
    "## Посчитайте, сколько книг вышло после 1 января 2000 года"
   ]
  },
  {
   "cell_type": "markdown",
   "id": "804145ca",
   "metadata": {},
   "source": [
    "- определяю для вывода на экран столбцы с посчетом количества книг book_id\n",
    "- описываем откуда выгружаем данные - таблица с данными о книгах books\n",
    "- с помощью оператора сравнения WHERE отбираю книги по нужной дате publication_date"
   ]
  },
  {
   "cell_type": "code",
   "execution_count": 5,
   "id": "08d9c35b",
   "metadata": {
    "scrolled": true
   },
   "outputs": [
    {
     "data": {
      "text/html": [
       "<div>\n",
       "<style scoped>\n",
       "    .dataframe tbody tr th:only-of-type {\n",
       "        vertical-align: middle;\n",
       "    }\n",
       "\n",
       "    .dataframe tbody tr th {\n",
       "        vertical-align: top;\n",
       "    }\n",
       "\n",
       "    .dataframe thead th {\n",
       "        text-align: right;\n",
       "    }\n",
       "</style>\n",
       "<table border=\"1\" class=\"dataframe\">\n",
       "  <thead>\n",
       "    <tr style=\"text-align: right;\">\n",
       "      <th></th>\n",
       "      <th>number_book</th>\n",
       "    </tr>\n",
       "  </thead>\n",
       "  <tbody>\n",
       "    <tr>\n",
       "      <th>0</th>\n",
       "      <td>819</td>\n",
       "    </tr>\n",
       "  </tbody>\n",
       "</table>\n",
       "</div>"
      ],
      "text/plain": [
       "   number_book\n",
       "0          819"
      ]
     },
     "execution_count": 5,
     "metadata": {},
     "output_type": "execute_result"
    }
   ],
   "source": [
    "table('''\n",
    "SELECT \n",
    "    COUNT(book_id) AS number_book\n",
    "FROM \n",
    "    books\n",
    "WHERE \n",
    "    publication_date > '2000-01-01'\n",
    "''')"
   ]
  },
  {
   "cell_type": "markdown",
   "id": "8c908b58",
   "metadata": {},
   "source": [
    "после 1 января 2000 года вышло 819 книг"
   ]
  },
  {
   "cell_type": "markdown",
   "id": "4a3f5d1d",
   "metadata": {},
   "source": [
    "## Для каждой книги посчитайте количество обзоров и среднюю оценку"
   ]
  },
  {
   "cell_type": "markdown",
   "id": "fbfc020d",
   "metadata": {},
   "source": [
    "- определяю для вывода на экран столбцы с идентификатором книги book_id, названием книги title, считаю уникальное количество по  идентификатору обзора review_id, вычисляю среднюю оценку по оценке книги rating\n",
    "- описываем откуда выгружаем данные - таблица books\n",
    "- объединяю по таблице с данными о книгах books таблицы с данными о пользовательских оценках книг ratings и обзорах книг reviews по идентификатору книги book_id\n",
    "- группирую данные по идентификатор книги book_id\n",
    "- сортирую количество оценок по убыванию number_review"
   ]
  },
  {
   "cell_type": "code",
   "execution_count": 7,
   "id": "50490bec",
   "metadata": {
    "code_folding": [],
    "scrolled": true
   },
   "outputs": [
    {
     "data": {
      "text/html": [
       "<div>\n",
       "<style scoped>\n",
       "    .dataframe tbody tr th:only-of-type {\n",
       "        vertical-align: middle;\n",
       "    }\n",
       "\n",
       "    .dataframe tbody tr th {\n",
       "        vertical-align: top;\n",
       "    }\n",
       "\n",
       "    .dataframe thead th {\n",
       "        text-align: right;\n",
       "    }\n",
       "</style>\n",
       "<table border=\"1\" class=\"dataframe\">\n",
       "  <thead>\n",
       "    <tr style=\"text-align: right;\">\n",
       "      <th></th>\n",
       "      <th>book_id</th>\n",
       "      <th>title</th>\n",
       "      <th>number_review</th>\n",
       "      <th>mean_rating</th>\n",
       "    </tr>\n",
       "  </thead>\n",
       "  <tbody>\n",
       "    <tr>\n",
       "      <th>0</th>\n",
       "      <td>948</td>\n",
       "      <td>Twilight (Twilight  #1)</td>\n",
       "      <td>7</td>\n",
       "      <td>3.662500</td>\n",
       "    </tr>\n",
       "    <tr>\n",
       "      <th>1</th>\n",
       "      <td>963</td>\n",
       "      <td>Water for Elephants</td>\n",
       "      <td>6</td>\n",
       "      <td>3.977273</td>\n",
       "    </tr>\n",
       "    <tr>\n",
       "      <th>2</th>\n",
       "      <td>734</td>\n",
       "      <td>The Glass Castle</td>\n",
       "      <td>6</td>\n",
       "      <td>4.206897</td>\n",
       "    </tr>\n",
       "    <tr>\n",
       "      <th>3</th>\n",
       "      <td>302</td>\n",
       "      <td>Harry Potter and the Prisoner of Azkaban (Harr...</td>\n",
       "      <td>6</td>\n",
       "      <td>4.414634</td>\n",
       "    </tr>\n",
       "    <tr>\n",
       "      <th>4</th>\n",
       "      <td>695</td>\n",
       "      <td>The Curious Incident of the Dog in the Night-Time</td>\n",
       "      <td>6</td>\n",
       "      <td>4.081081</td>\n",
       "    </tr>\n",
       "    <tr>\n",
       "      <th>...</th>\n",
       "      <td>...</td>\n",
       "      <td>...</td>\n",
       "      <td>...</td>\n",
       "      <td>...</td>\n",
       "    </tr>\n",
       "    <tr>\n",
       "      <th>995</th>\n",
       "      <td>83</td>\n",
       "      <td>Anne Rice's The Vampire Lestat: A Graphic Novel</td>\n",
       "      <td>0</td>\n",
       "      <td>3.666667</td>\n",
       "    </tr>\n",
       "    <tr>\n",
       "      <th>996</th>\n",
       "      <td>808</td>\n",
       "      <td>The Natural Way to Draw</td>\n",
       "      <td>0</td>\n",
       "      <td>3.000000</td>\n",
       "    </tr>\n",
       "    <tr>\n",
       "      <th>997</th>\n",
       "      <td>672</td>\n",
       "      <td>The Cat in the Hat and Other Dr. Seuss Favorites</td>\n",
       "      <td>0</td>\n",
       "      <td>5.000000</td>\n",
       "    </tr>\n",
       "    <tr>\n",
       "      <th>998</th>\n",
       "      <td>221</td>\n",
       "      <td>Essential Tales and Poems</td>\n",
       "      <td>0</td>\n",
       "      <td>4.000000</td>\n",
       "    </tr>\n",
       "    <tr>\n",
       "      <th>999</th>\n",
       "      <td>191</td>\n",
       "      <td>Disney's Beauty and the Beast (A Little Golden...</td>\n",
       "      <td>0</td>\n",
       "      <td>4.000000</td>\n",
       "    </tr>\n",
       "  </tbody>\n",
       "</table>\n",
       "<p>1000 rows × 4 columns</p>\n",
       "</div>"
      ],
      "text/plain": [
       "     book_id                                              title  \\\n",
       "0        948                            Twilight (Twilight  #1)   \n",
       "1        963                                Water for Elephants   \n",
       "2        734                                   The Glass Castle   \n",
       "3        302  Harry Potter and the Prisoner of Azkaban (Harr...   \n",
       "4        695  The Curious Incident of the Dog in the Night-Time   \n",
       "..       ...                                                ...   \n",
       "995       83    Anne Rice's The Vampire Lestat: A Graphic Novel   \n",
       "996      808                            The Natural Way to Draw   \n",
       "997      672   The Cat in the Hat and Other Dr. Seuss Favorites   \n",
       "998      221                          Essential Tales and Poems   \n",
       "999      191  Disney's Beauty and the Beast (A Little Golden...   \n",
       "\n",
       "     number_review  mean_rating  \n",
       "0                7     3.662500  \n",
       "1                6     3.977273  \n",
       "2                6     4.206897  \n",
       "3                6     4.414634  \n",
       "4                6     4.081081  \n",
       "..             ...          ...  \n",
       "995              0     3.666667  \n",
       "996              0     3.000000  \n",
       "997              0     5.000000  \n",
       "998              0     4.000000  \n",
       "999              0     4.000000  \n",
       "\n",
       "[1000 rows x 4 columns]"
      ]
     },
     "execution_count": 7,
     "metadata": {},
     "output_type": "execute_result"
    }
   ],
   "source": [
    "table('''\n",
    "SELECT\n",
    "    b.book_id,\n",
    "    b.title,\n",
    "    COUNT(DISTINCT rv.review_id) AS number_review,\n",
    "    AVG(rt.rating) AS mean_rating\n",
    "FROM\n",
    "    books AS b\n",
    "LEFT JOIN ratings AS rt ON b.book_id = rt.book_id\n",
    "LEFT JOIN reviews AS rv ON b.book_id = rv.book_id\n",
    "GROUP BY\n",
    "    b.book_id\n",
    "ORDER BY\n",
    "    number_review DESC\n",
    "''')"
   ]
  },
  {
   "cell_type": "markdown",
   "id": "87109384",
   "metadata": {},
   "source": [
    "всего получилось 1000 книг, с количеством обзоров от 0 до 7, для каждой книги выведена средняя оценка"
   ]
  },
  {
   "cell_type": "markdown",
   "id": "68eaaff6",
   "metadata": {},
   "source": [
    "## Определите издательство, которое выпустило наибольшее число книг толще 50 страниц — так вы исключите из анализа брошюры"
   ]
  },
  {
   "cell_type": "markdown",
   "id": "0850900b",
   "metadata": {},
   "source": [
    "Брошю́ра — печатное произведение небольшого объёма и ее размер не менее 5 и не более 48 страниц, поэтому отберем в столбце количество страниц books.num_pages, только те книги, у которых страниц больше 50"
   ]
  },
  {
   "cell_type": "markdown",
   "id": "01711711",
   "metadata": {},
   "source": [
    "- определяю для вывода на экран наименование издательства publisher и считаю количество книг по идентификатор книги book_id\n",
    "- описываем откуда выгружаем данные - таблица books\n",
    "- по таблице с данными о книгах books присоединяю данные об издательствах publishers по идентификатор издательства publisher_id\n",
    "- с помощью оператора сравнения WHERE отбираю страницы num_pages, количество которых больше 50\n",
    "- делаю группировку GROUP BY по идентификатору издательства и наименованию издательства\n",
    "- сортирую ORDER BY по количеству отобранных книг number_book по убыванию\n",
    "- вывожу только первую строку LIMIT"
   ]
  },
  {
   "cell_type": "code",
   "execution_count": 7,
   "id": "a3edf6b2",
   "metadata": {
    "code_folding": [],
    "scrolled": true
   },
   "outputs": [
    {
     "data": {
      "text/html": [
       "<div>\n",
       "<style scoped>\n",
       "    .dataframe tbody tr th:only-of-type {\n",
       "        vertical-align: middle;\n",
       "    }\n",
       "\n",
       "    .dataframe tbody tr th {\n",
       "        vertical-align: top;\n",
       "    }\n",
       "\n",
       "    .dataframe thead th {\n",
       "        text-align: right;\n",
       "    }\n",
       "</style>\n",
       "<table border=\"1\" class=\"dataframe\">\n",
       "  <thead>\n",
       "    <tr style=\"text-align: right;\">\n",
       "      <th></th>\n",
       "      <th>publisher</th>\n",
       "      <th>number_book</th>\n",
       "    </tr>\n",
       "  </thead>\n",
       "  <tbody>\n",
       "    <tr>\n",
       "      <th>0</th>\n",
       "      <td>Penguin Books</td>\n",
       "      <td>42</td>\n",
       "    </tr>\n",
       "  </tbody>\n",
       "</table>\n",
       "</div>"
      ],
      "text/plain": [
       "       publisher  number_book\n",
       "0  Penguin Books           42"
      ]
     },
     "execution_count": 7,
     "metadata": {},
     "output_type": "execute_result"
    }
   ],
   "source": [
    "table('''\n",
    "SELECT\n",
    "    p.publisher,\n",
    "    COUNT(b.book_id) AS number_book\n",
    "FROM\n",
    "    books AS b\n",
    "LEFT JOIN publishers AS p ON b.publisher_id = p.publisher_id\n",
    "WHERE b.num_pages > 50\n",
    "GROUP BY\n",
    "        b.publisher_id,\n",
    "        p.publisher\n",
    "ORDER BY \n",
    "       number_book DESC \n",
    "LIMIT 1\n",
    "''')"
   ]
  },
  {
   "cell_type": "markdown",
   "id": "356fe91b",
   "metadata": {},
   "source": [
    "Издательство выпустившее наибольшее число книг исключая брощюры стало Penguin Books - 42 книги "
   ]
  },
  {
   "cell_type": "markdown",
   "id": "08d2ecd1",
   "metadata": {},
   "source": [
    "## Определите автора с самой высокой средней оценкой книг — учитывайте только книги с 50 и более оценками"
   ]
  },
  {
   "cell_type": "markdown",
   "id": "463d5e8e",
   "metadata": {},
   "source": [
    "- определяю для вывода на экран столбцы с автором author и вычисляю средний рейтинг rating с помощью AVG\n",
    "- описываем откуда выгружаем данные - таблица books\n",
    "- объединяю по таблице books, таблицу authors по идентификатору автора author_id и таблицу ratings по идентификатор книги book_id\n",
    "- группировка по идентификатору автора author_id и book_id\n",
    "- после группировки с помощью оператора HAVING делаю срез данных по количеству rating_id идентификатор оценки равную и больше 50 оценок\n",
    "- сортирую с помощью оператора ORDER BY средний рейтинг mean_rating по убыванию DESC\n",
    "- вывожу первые первую строку с помощью оператора LIMIT"
   ]
  },
  {
   "cell_type": "code",
   "execution_count": 10,
   "id": "d6b8a641",
   "metadata": {},
   "outputs": [
    {
     "data": {
      "text/html": [
       "<div>\n",
       "<style scoped>\n",
       "    .dataframe tbody tr th:only-of-type {\n",
       "        vertical-align: middle;\n",
       "    }\n",
       "\n",
       "    .dataframe tbody tr th {\n",
       "        vertical-align: top;\n",
       "    }\n",
       "\n",
       "    .dataframe thead th {\n",
       "        text-align: right;\n",
       "    }\n",
       "</style>\n",
       "<table border=\"1\" class=\"dataframe\">\n",
       "  <thead>\n",
       "    <tr style=\"text-align: right;\">\n",
       "      <th></th>\n",
       "      <th>author</th>\n",
       "      <th>mean_rating</th>\n",
       "    </tr>\n",
       "  </thead>\n",
       "  <tbody>\n",
       "    <tr>\n",
       "      <th>0</th>\n",
       "      <td>J.K. Rowling/Mary GrandPré</td>\n",
       "      <td>4.287097</td>\n",
       "    </tr>\n",
       "  </tbody>\n",
       "</table>\n",
       "</div>"
      ],
      "text/plain": [
       "                       author  mean_rating\n",
       "0  J.K. Rowling/Mary GrandPré     4.287097"
      ]
     },
     "execution_count": 10,
     "metadata": {},
     "output_type": "execute_result"
    }
   ],
   "source": [
    "table('''\n",
    "SELECT \n",
    "    a.author,\n",
    "    AVG(r.rating) AS mean_rating\n",
    "FROM (SELECT book_id,\n",
    "    AVG(rating) AS rating_avg\n",
    "    FROM ratings\n",
    "    GROUP BY book_id\n",
    "    HAVING COUNT(rating_id) >= 50) AS rt\n",
    "JOIN ratings AS r on rt.book_id=r.book_id \n",
    "JOIN books AS b ON rt.book_id = b.book_id\n",
    "JOIN authors AS a ON b.author_id = a.author_id\n",
    "\n",
    "GROUP BY\n",
    "        a.author       \n",
    "ORDER BY mean_rating DESC\n",
    "LIMIT 1\n",
    "''')"
   ]
  },
  {
   "cell_type": "markdown",
   "id": "5eb1ba5a",
   "metadata": {},
   "source": [
    "самый высокий рейтинг с оценкой равной или более 50 стали книги написанные совместно авторами J.K. Rowling/Mary GrandPré с рейтингом 4.287097"
   ]
  },
  {
   "cell_type": "markdown",
   "id": "a1cd0518",
   "metadata": {},
   "source": [
    "## Посчитайте среднее количество обзоров от пользователей, которые поставили больше 50 оценок."
   ]
  },
  {
   "cell_type": "markdown",
   "id": "12f4ea59",
   "metadata": {},
   "source": [
    "- определяю для вывода на экран среднее количество оценкок вычисляем: количество обзоров по идентификатору  обзора делим на уникальное количество пользователей написавших обзор\n",
    "- описываем откуда выгружаем данные - таблица reviews \n",
    "- с помощью оператора сравнения WHERE делаю вложенный запрос для пользователей, где отбираю пользовтаелй в таблице с рейтингом по идентификатору оценок с количеством оценок больше 50"
   ]
  },
  {
   "cell_type": "code",
   "execution_count": 9,
   "id": "d0bdff6d",
   "metadata": {},
   "outputs": [
    {
     "data": {
      "text/html": [
       "<div>\n",
       "<style scoped>\n",
       "    .dataframe tbody tr th:only-of-type {\n",
       "        vertical-align: middle;\n",
       "    }\n",
       "\n",
       "    .dataframe tbody tr th {\n",
       "        vertical-align: top;\n",
       "    }\n",
       "\n",
       "    .dataframe thead th {\n",
       "        text-align: right;\n",
       "    }\n",
       "</style>\n",
       "<table border=\"1\" class=\"dataframe\">\n",
       "  <thead>\n",
       "    <tr style=\"text-align: right;\">\n",
       "      <th></th>\n",
       "      <th>mean_review</th>\n",
       "    </tr>\n",
       "  </thead>\n",
       "  <tbody>\n",
       "    <tr>\n",
       "      <th>0</th>\n",
       "      <td>24</td>\n",
       "    </tr>\n",
       "  </tbody>\n",
       "</table>\n",
       "</div>"
      ],
      "text/plain": [
       "   mean_review\n",
       "0           24"
      ]
     },
     "execution_count": 9,
     "metadata": {},
     "output_type": "execute_result"
    }
   ],
   "source": [
    "table('''\n",
    "SELECT \n",
    "    COUNT(review_id)/ COUNT(DISTINCT(username)) AS mean_review \n",
    "FROM\n",
    "    reviews\n",
    "WHERE  username IN \n",
    "   (SELECT username\n",
    "    FROM ratings\n",
    "    GROUP BY username\n",
    "    HAVING COUNT(rating_id) > 50\n",
    ")\n",
    "''')"
   ]
  },
  {
   "cell_type": "markdown",
   "id": "8da2c47d",
   "metadata": {},
   "source": [
    "в среднем на каждого пользователя приходятся по 24 отзыва"
   ]
  },
  {
   "cell_type": "markdown",
   "id": "4c99cdec",
   "metadata": {},
   "source": [
    "# Выводы"
   ]
  },
  {
   "cell_type": "markdown",
   "id": "0039b02b",
   "metadata": {},
   "source": [
    "- после 1 января 2000 года вышло 819 книг\n",
    "- всего получилось 1000 книг, с количеством обзоров от 0 до 7, для каждой книги выведена средняя оценка\n",
    "- издательство выпустившее наибольшее число книг исключая брощюры стало Penguin Books - 42 книги \n",
    "- самый высокий рейтинг с оценкой равной или более 50 стали книги написанные совместно авторами J.K. Rowling/Mary GrandPré с рейтингом 4.287097\n",
    "- в среднем на каждого пользователя приходятся по 24 отзыва, которые поставили больше 50 оценок"
   ]
  },
  {
   "cell_type": "code",
   "execution_count": null,
   "id": "c23d85b4",
   "metadata": {},
   "outputs": [],
   "source": []
  }
 ],
 "metadata": {
  "ExecuteTimeLog": [
   {
    "duration": 419,
    "start_time": "2022-06-17T10:40:07.042Z"
   },
   {
    "duration": 33,
    "start_time": "2022-06-17T10:40:07.463Z"
   },
   {
    "duration": 311,
    "start_time": "2022-06-17T10:40:07.497Z"
   },
   {
    "duration": 3,
    "start_time": "2022-06-17T10:40:07.809Z"
   },
   {
    "duration": 29,
    "start_time": "2022-06-17T10:40:07.813Z"
   },
   {
    "duration": 41,
    "start_time": "2022-06-17T10:40:07.843Z"
   },
   {
    "duration": 9,
    "start_time": "2022-06-17T10:40:07.885Z"
   },
   {
    "duration": 22,
    "start_time": "2022-06-17T10:40:07.896Z"
   },
   {
    "duration": 13,
    "start_time": "2022-06-17T10:40:07.920Z"
   },
   {
    "duration": 85,
    "start_time": "2022-06-17T10:59:19.348Z"
   },
   {
    "duration": 599,
    "start_time": "2022-06-17T10:59:28.283Z"
   },
   {
    "duration": 57,
    "start_time": "2022-06-17T10:59:29.319Z"
   },
   {
    "duration": 400,
    "start_time": "2022-06-17T10:59:30.429Z"
   },
   {
    "duration": 3,
    "start_time": "2022-06-17T10:59:31.085Z"
   },
   {
    "duration": 22,
    "start_time": "2022-06-17T10:59:33.664Z"
   },
   {
    "duration": 27,
    "start_time": "2022-06-17T10:59:35.635Z"
   },
   {
    "duration": 78,
    "start_time": "2022-06-17T11:00:08.518Z"
   },
   {
    "duration": 75,
    "start_time": "2022-06-17T11:01:10.797Z"
   },
   {
    "duration": 80,
    "start_time": "2022-06-17T11:01:33.475Z"
   },
   {
    "duration": 22,
    "start_time": "2022-06-17T11:01:46.201Z"
   },
   {
    "duration": 18,
    "start_time": "2022-06-17T11:02:07.904Z"
   },
   {
    "duration": 55,
    "start_time": "2022-06-17T11:03:33.039Z"
   },
   {
    "duration": 51,
    "start_time": "2022-06-17T11:03:48.308Z"
   },
   {
    "duration": 89,
    "start_time": "2022-06-17T11:04:08.938Z"
   },
   {
    "duration": 89,
    "start_time": "2022-06-17T11:06:38.081Z"
   },
   {
    "duration": 22,
    "start_time": "2022-06-17T11:07:06.345Z"
   },
   {
    "duration": 55,
    "start_time": "2022-06-17T11:08:31.576Z"
   },
   {
    "duration": 20,
    "start_time": "2022-06-17T11:09:50.359Z"
   },
   {
    "duration": 83,
    "start_time": "2022-06-17T11:11:48.543Z"
   },
   {
    "duration": 19,
    "start_time": "2022-06-17T11:12:07.362Z"
   },
   {
    "duration": 75,
    "start_time": "2022-06-17T11:12:26.793Z"
   },
   {
    "duration": 17,
    "start_time": "2022-06-17T11:12:41.041Z"
   },
   {
    "duration": 19,
    "start_time": "2022-06-17T11:13:03.618Z"
   },
   {
    "duration": 21,
    "start_time": "2022-06-17T11:13:35.606Z"
   },
   {
    "duration": 19,
    "start_time": "2022-06-17T11:16:37.570Z"
   },
   {
    "duration": 19,
    "start_time": "2022-06-17T11:17:08.496Z"
   },
   {
    "duration": 72,
    "start_time": "2022-06-17T11:17:22.835Z"
   },
   {
    "duration": 20,
    "start_time": "2022-06-17T11:17:45.974Z"
   },
   {
    "duration": 96,
    "start_time": "2022-06-17T11:18:30.519Z"
   },
   {
    "duration": 18,
    "start_time": "2022-06-17T11:18:35.640Z"
   },
   {
    "duration": 23,
    "start_time": "2022-06-17T11:18:47.620Z"
   },
   {
    "duration": 19,
    "start_time": "2022-06-17T11:19:04.419Z"
   },
   {
    "duration": 20,
    "start_time": "2022-06-17T11:20:58.292Z"
   },
   {
    "duration": 17,
    "start_time": "2022-06-17T11:29:17.662Z"
   },
   {
    "duration": 23,
    "start_time": "2022-06-17T11:34:47.681Z"
   },
   {
    "duration": 16,
    "start_time": "2022-06-17T11:36:51.027Z"
   },
   {
    "duration": 20,
    "start_time": "2022-06-17T11:37:01.481Z"
   },
   {
    "duration": 87,
    "start_time": "2022-06-17T11:41:38.610Z"
   },
   {
    "duration": 66,
    "start_time": "2022-06-17T11:42:56.893Z"
   },
   {
    "duration": 84,
    "start_time": "2022-06-17T11:43:05.982Z"
   },
   {
    "duration": 13,
    "start_time": "2022-06-17T11:45:04.497Z"
   },
   {
    "duration": 54,
    "start_time": "2022-06-19T07:53:10.061Z"
   },
   {
    "duration": 522,
    "start_time": "2022-06-19T07:53:18.507Z"
   },
   {
    "duration": 2464,
    "start_time": "2022-06-19T07:53:19.866Z"
   },
   {
    "duration": 2548,
    "start_time": "2022-06-19T07:53:22.334Z"
   },
   {
    "duration": 4,
    "start_time": "2022-06-19T07:53:24.885Z"
   },
   {
    "duration": 83,
    "start_time": "2022-06-19T07:53:24.891Z"
   },
   {
    "duration": 111,
    "start_time": "2022-06-19T07:53:27.621Z"
   },
   {
    "duration": 70,
    "start_time": "2022-06-19T07:53:30.795Z"
   },
   {
    "duration": 75,
    "start_time": "2022-06-19T07:53:33.374Z"
   },
   {
    "duration": 203,
    "start_time": "2022-06-19T08:13:35.894Z"
   },
   {
    "duration": 128,
    "start_time": "2022-06-19T08:13:48.238Z"
   },
   {
    "duration": 119,
    "start_time": "2022-06-19T08:14:57.920Z"
   },
   {
    "duration": 115,
    "start_time": "2022-06-19T08:18:14.248Z"
   },
   {
    "duration": 84,
    "start_time": "2022-06-19T08:19:20.946Z"
   },
   {
    "duration": 93,
    "start_time": "2022-06-19T08:22:22.855Z"
   },
   {
    "duration": 77,
    "start_time": "2022-06-19T08:22:40.419Z"
   },
   {
    "duration": 74,
    "start_time": "2022-06-19T08:22:59.767Z"
   },
   {
    "duration": 119,
    "start_time": "2022-06-19T08:24:31.825Z"
   },
   {
    "duration": 3,
    "start_time": "2022-06-19T08:28:00.449Z"
   },
   {
    "duration": 4,
    "start_time": "2022-06-19T08:29:07.272Z"
   },
   {
    "duration": 9,
    "start_time": "2022-06-19T08:29:26.175Z"
   },
   {
    "duration": 8,
    "start_time": "2022-06-19T08:30:25.811Z"
   },
   {
    "duration": 9,
    "start_time": "2022-06-19T08:33:45.844Z"
   },
   {
    "duration": 9,
    "start_time": "2022-06-19T08:34:38.560Z"
   },
   {
    "duration": 9,
    "start_time": "2022-06-19T08:34:54.361Z"
   },
   {
    "duration": 10,
    "start_time": "2022-06-19T08:35:33.298Z"
   },
   {
    "duration": 10,
    "start_time": "2022-06-19T08:35:47.879Z"
   },
   {
    "duration": 8,
    "start_time": "2022-06-19T08:36:32.988Z"
   },
   {
    "duration": 9,
    "start_time": "2022-06-19T08:38:05.182Z"
   },
   {
    "duration": 11,
    "start_time": "2022-06-19T08:38:37.156Z"
   },
   {
    "duration": 15,
    "start_time": "2022-06-19T08:38:49.451Z"
   },
   {
    "duration": 11,
    "start_time": "2022-06-19T08:39:31.874Z"
   },
   {
    "duration": 13,
    "start_time": "2022-06-19T08:39:55.103Z"
   },
   {
    "duration": 9,
    "start_time": "2022-06-19T08:40:29.705Z"
   },
   {
    "duration": 8,
    "start_time": "2022-06-19T08:40:41.384Z"
   },
   {
    "duration": 7,
    "start_time": "2022-06-19T08:40:45.547Z"
   },
   {
    "duration": 11,
    "start_time": "2022-06-19T08:40:54.576Z"
   },
   {
    "duration": 728,
    "start_time": "2022-06-19T08:41:28.410Z"
   },
   {
    "duration": 114,
    "start_time": "2022-06-19T08:41:29.601Z"
   },
   {
    "duration": 2691,
    "start_time": "2022-06-19T08:41:30.077Z"
   },
   {
    "duration": 5,
    "start_time": "2022-06-19T08:41:32.771Z"
   },
   {
    "duration": 96,
    "start_time": "2022-06-19T08:41:32.778Z"
   },
   {
    "duration": 118,
    "start_time": "2022-06-19T08:41:34.870Z"
   },
   {
    "duration": 79,
    "start_time": "2022-06-19T08:41:38.093Z"
   },
   {
    "duration": 81,
    "start_time": "2022-06-19T08:41:41.009Z"
   },
   {
    "duration": 212,
    "start_time": "2022-06-19T08:43:15.755Z"
   },
   {
    "duration": 120,
    "start_time": "2022-06-19T08:44:23.247Z"
   },
   {
    "duration": 106,
    "start_time": "2022-06-19T08:44:54.397Z"
   },
   {
    "duration": 105,
    "start_time": "2022-06-19T08:45:20.069Z"
   },
   {
    "duration": 317,
    "start_time": "2022-06-19T08:45:48.646Z"
   },
   {
    "duration": 83,
    "start_time": "2022-06-19T08:47:31.968Z"
   },
   {
    "duration": 116,
    "start_time": "2022-06-19T08:49:11.588Z"
   },
   {
    "duration": 128,
    "start_time": "2022-06-19T08:50:08.160Z"
   },
   {
    "duration": 117,
    "start_time": "2022-06-19T08:50:35.436Z"
   },
   {
    "duration": 133,
    "start_time": "2022-06-19T08:51:27.204Z"
   },
   {
    "duration": 120,
    "start_time": "2022-06-19T09:56:19.915Z"
   },
   {
    "duration": 131,
    "start_time": "2022-06-19T09:57:52.276Z"
   },
   {
    "duration": 142,
    "start_time": "2022-06-19T10:03:21.003Z"
   },
   {
    "duration": 161,
    "start_time": "2022-06-19T10:03:36.686Z"
   },
   {
    "duration": 140,
    "start_time": "2022-06-19T10:04:18.118Z"
   },
   {
    "duration": 200,
    "start_time": "2022-06-19T10:06:29.844Z"
   },
   {
    "duration": 165,
    "start_time": "2022-06-19T10:06:33.009Z"
   },
   {
    "duration": 96,
    "start_time": "2022-06-19T10:09:56.613Z"
   },
   {
    "duration": 86,
    "start_time": "2022-06-19T10:15:34.683Z"
   }
  ],
  "kernelspec": {
   "display_name": "Python 3 (ipykernel)",
   "language": "python",
   "name": "python3"
  },
  "language_info": {
   "codemirror_mode": {
    "name": "ipython",
    "version": 3
   },
   "file_extension": ".py",
   "mimetype": "text/x-python",
   "name": "python",
   "nbconvert_exporter": "python",
   "pygments_lexer": "ipython3",
   "version": "3.9.7"
  },
  "toc": {
   "base_numbering": 1,
   "nav_menu": {},
   "number_sections": true,
   "sideBar": true,
   "skip_h1_title": true,
   "title_cell": "Table of Contents",
   "title_sidebar": "Contents",
   "toc_cell": true,
   "toc_position": {},
   "toc_section_display": true,
   "toc_window_display": false
  }
 },
 "nbformat": 4,
 "nbformat_minor": 5
}
